{
  "nbformat": 4,
  "nbformat_minor": 0,
  "metadata": {
    "colab": {
      "provenance": [],
      "authorship_tag": "ABX9TyMunZfiabmhsuPGtNHQmhUM",
      "include_colab_link": true
    },
    "kernelspec": {
      "name": "python3",
      "display_name": "Python 3"
    },
    "language_info": {
      "name": "python"
    }
  },
  "cells": [
    {
      "cell_type": "markdown",
      "metadata": {
        "id": "view-in-github",
        "colab_type": "text"
      },
      "source": [
        "<a href=\"https://colab.research.google.com/github/polyakova-polina/QMentee/blob/main/untitled2.ipynb\" target=\"_parent\"><img src=\"https://colab.research.google.com/assets/colab-badge.svg\" alt=\"Open In Colab\"/></a>"
      ]
    },
    {
      "cell_type": "code",
      "source": [
        "!pip install qiskit"
      ],
      "metadata": {
        "id": "vHZL5SG5P0C2"
      },
      "execution_count": null,
      "outputs": []
    },
    {
      "cell_type": "code",
      "source": [
        "!pip install latex\n",
        "!pip install matplotlib\n",
        "!pip install pylatexenc"
      ],
      "metadata": {
        "id": "jqbUXgj_Y70_"
      },
      "execution_count": null,
      "outputs": []
    },
    {
      "cell_type": "code",
      "source": [
        "from qiskit.quantum_info import  Operator\n",
        "import numpy as np\n",
        "import pylatexenc"
      ],
      "metadata": {
        "id": "g9KalezuZCVB"
      },
      "execution_count": 16,
      "outputs": []
    },
    {
      "cell_type": "code",
      "execution_count": 17,
      "metadata": {
        "id": "4zgvDEwaPcx1"
      },
      "outputs": [],
      "source": [
        "from qiskit import QuantumCircuit, assemble, Aer, QuantumRegister, ClassicalRegister\n",
        "from qiskit.visualization import plot_histogram, plot_bloch_vector\n",
        "from math import sqrt, pi"
      ]
    },
    {
      "cell_type": "markdown",
      "source": [
        "используем метод initialize(), чтобы преобразовать цепочку в состояние \"1\"\n"
      ],
      "metadata": {
        "id": "FjaOgJmSa423"
      }
    },
    {
      "cell_type": "code",
      "source": [
        "qc = QuantumCircuit(1)  \n",
        "initial_state = [0,1]   \n",
        "qc.initialize(initial_state, 0) # Apply initialisation operation to the 0th qubit\n",
        "qc.draw('mpl')  "
      ],
      "metadata": {
        "colab": {
          "base_uri": "https://localhost:8080/",
          "height": 95
        },
        "id": "1Fc8gw_PQFeX",
        "outputId": "42a773b8-1541-4a8d-e838-731c53c1b4aa"
      },
      "execution_count": 23,
      "outputs": [
        {
          "output_type": "execute_result",
          "data": {
            "text/plain": [
              "<Figure size 133.526x84.28 with 1 Axes>"
            ],
            "image/png": "[encoded data removed]"
          },
          "metadata": {},
          "execution_count": 23
        }
      ]
    },
    {
      "cell_type": "code",
      "source": [
        "sim = Aer.get_backend('aer_simulator')  # Tell Qiskit how to simulate our circuit"
      ],
      "metadata": {
        "id": "EQoBqEKmRUeU"
      },
      "execution_count": 4,
      "outputs": []
    },
    {
      "cell_type": "code",
      "source": [
        "from qiskit.quantum_info.states import statevector\n",
        "from qiskit.result import Result\n",
        "qc.save_statevector()   # Tell simulator to save statevector\n",
        "qobj = assemble(qc)     # Create a Qobj from the circuit for the simulator to run\n",
        "result = sim.run(qobj).result() # Do the simulation and return the result\n"
      ],
      "metadata": {
        "id": "0U9tMegYRa3O"
      },
      "execution_count": 26,
      "outputs": []
    },
    {
      "cell_type": "code",
      "source": [
        "out_state = result.get_statevector()\n",
        "out_state.draw() # Display the output state vector"
      ],
      "metadata": {
        "colab": {
          "base_uri": "https://localhost:8080/",
          "height": 35
        },
        "id": "HJYKBIo5TWb8",
        "outputId": "4a8963ce-aac8-4434-c920-3b24c4405b6c"
      },
      "execution_count": 35,
      "outputs": [
        {
          "output_type": "execute_result",
          "data": {
            "text/plain": [
              "'Statevector([0.+0.j, 1.+0.j],\\n            dims=(2,))'"
            ],
            "application/vnd.google.colaboratory.intrinsic+json": {
              "type": "string"
            }
          },
          "metadata": {},
          "execution_count": 35
        }
      ]
    },
    {
      "cell_type": "code",
      "source": [
        "qc.measure_all()\n",
        "qc.draw('mpl')"
      ],
      "metadata": {
        "colab": {
          "base_uri": "https://localhost:8080/",
          "height": 140
        },
        "id": "yAqrhR2kUJNG",
        "outputId": "c5adb494-bc6a-4cb1-83bd-003fd59809ff"
      },
      "execution_count": 24,
      "outputs": [
        {
          "output_type": "execute_result",
          "data": {
            "text/plain": [
              "<Figure size 297.479x144.48 with 1 Axes>"
            ],
            "image/png": "[encoded data removed]"
          },
          "metadata": {},
          "execution_count": 24
        }
      ]
    },
    {
      "cell_type": "code",
      "source": [
        "qobj = assemble(qc)\n",
        "result = sim.run(qobj).result()\n",
        "counts = result.get_counts()\n",
        "plot_histogram(counts)"
      ],
      "metadata": {
        "id": "4yq-7vEvVRlo",
        "outputId": "e1340640-6efe-4c67-ad5e-e65e357a21ba",
        "colab": {
          "base_uri": "https://localhost:8080/",
          "height": 323
        }
      },
      "execution_count": 8,
      "outputs": [
        {
          "output_type": "execute_result",
          "data": {
            "text/plain": [
              "<Figure size 504x360 with 1 Axes>"
            ],
            "image/png": "[encoded data removed]"
          },
          "metadata": {},
          "execution_count": 8
        }
      ]
    },
    {
      "cell_type": "markdown",
      "source": [
        "Теперь поставим кубит в суперпозицию\n"
      ],
      "metadata": {
        "id": "va18uicUV8OU"
      }
    },
    {
      "cell_type": "code",
      "source": [
        "initial_state = [1/sqrt(2), 1j/sqrt(2)]  "
      ],
      "metadata": {
        "id": "xO1eU76BVDR4"
      },
      "execution_count": 38,
      "outputs": []
    },
    {
      "cell_type": "code",
      "source": [
        "qc = QuantumCircuit(1)\n",
        "qc.initialize(initial_state, 0) \n",
        "qc.save_statevector() \n",
        "qobj = assemble(qc)\n",
        "state = sim.run(qobj).result().get_statevector() \n",
        "print(state)         "
      ],
      "metadata": {
        "colab": {
          "base_uri": "https://localhost:8080/"
        },
        "id": "lOKuCxTeVILc",
        "outputId": "a292356e-d141-433c-df34-8d9bdf719a84"
      },
      "execution_count": 39,
      "outputs": [
        {
          "output_type": "stream",
          "name": "stdout",
          "text": [
            "Statevector([0.70710678+0.j        , 0.        +0.70710678j],\n",
            "            dims=(2,))\n"
          ]
        }
      ]
    },
    {
      "cell_type": "code",
      "source": [
        "qobj = assemble(qc)\n",
        "results = sim.run(qobj).result().get_counts()\n",
        "plot_histogram(results)"
      ],
      "metadata": {
        "id": "y8waLwopVhf7",
        "outputId": "c3b432f6-5e96-4a98-eb6e-130a0c98ad69",
        "colab": {
          "base_uri": "https://localhost:8080/",
          "height": 323
        }
      },
      "execution_count": 11,
      "outputs": [
        {
          "output_type": "execute_result",
          "data": {
            "text/plain": [
              "<Figure size 504x360 with 1 Axes>"
            ],
            "image/png": "[encoded data removed]"
          },
          "metadata": {},
          "execution_count": 11
        }
      ]
    }
  ]
}